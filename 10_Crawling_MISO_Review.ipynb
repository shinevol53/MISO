{
 "cells": [
  {
   "cell_type": "code",
   "execution_count": 20,
   "metadata": {},
   "outputs": [],
   "source": [
    "# web crawling\n",
    "import json\n",
    "import requests\n",
    "from bs4 import BeautifulSoup\n",
    "from selenium import webdriver\n",
    "import time\n",
    "\n",
    "import re"
   ]
  },
  {
   "cell_type": "code",
   "execution_count": 2,
   "metadata": {},
   "outputs": [],
   "source": [
    "url = \"https://play.google.com/store/apps/details?id=com.miso\""
   ]
  },
  {
   "cell_type": "code",
   "execution_count": 3,
   "metadata": {},
   "outputs": [],
   "source": [
    "### selenium\n",
    "\n",
    "driver = webdriver.Chrome(executable_path='../chromedriver.exe')\n",
    "driver.get(url)"
   ]
  },
  {
   "cell_type": "markdown",
   "metadata": {},
   "source": [
    "#### <리뷰 모두 보기> 버튼 누르기 "
   ]
  },
  {
   "cell_type": "markdown",
   "metadata": {},
   "source": [
    "#### scroll down과 button click을 번갈아 진행해야 함"
   ]
  },
  {
   "cell_type": "code",
   "execution_count": 124,
   "metadata": {},
   "outputs": [],
   "source": [
    "# scroll down X 4 times\n",
    "\n",
    "driver.implicitly_wait(3) # 암묵적으로 3초 기다림\n",
    "\n",
    "cnt = 0\n",
    "while cnt < 5:\n",
    "    driver.execute_script('window.scrollTo(0, document.body.scrollHeight);')\n",
    "    cnt += 1\n",
    "    time.sleep(0.5)\n",
    "\n"
   ]
  },
  {
   "cell_type": "code",
   "execution_count": 123,
   "metadata": {},
   "outputs": [],
   "source": [
    "# button click : 더보기\n",
    "driver.find_element_by_xpath('//*[@id=\"fcxH9b\"]/div[4]/c-wiz[2]/div/div[2]/div/div/main/div/div[1]/div[2]/div[2]/div/span/span').click()"
   ]
  },
  {
   "cell_type": "code",
   "execution_count": 125,
   "metadata": {},
   "outputs": [],
   "source": [
    "document = driver.page_source"
   ]
  },
  {
   "cell_type": "code",
   "execution_count": 136,
   "metadata": {},
   "outputs": [],
   "source": [
    "driver.quit()"
   ]
  },
  {
   "cell_type": "code",
   "execution_count": 126,
   "metadata": {},
   "outputs": [],
   "source": [
    "soup = BeautifulSoup(document, 'html.parser')"
   ]
  },
  {
   "cell_type": "code",
   "execution_count": 127,
   "metadata": {},
   "outputs": [],
   "source": [
    "review_lists = soup.select('#fcxH9b > div.WpDbMd > c-wiz:nth-child(4) > div > div.ZfcPIb > div > div > main > div > div.W4P4ne > div:nth-child(2) > div:nth-child(3) > div')"
   ]
  },
  {
   "cell_type": "code",
   "execution_count": 146,
   "metadata": {},
   "outputs": [],
   "source": [
    "# selenium으로 바로 사용시\n",
    "#review_all = driver.find_elements_by_css_selector('#fcxH9b > div.WpDbMd > c-wiz:nth-child(4) > div > div.ZfcPIb > div > div > main > div > div.W4P4ne > div:nth-child(2) > div:nth-child(3) > div')"
   ]
  },
  {
   "cell_type": "code",
   "execution_count": 128,
   "metadata": {},
   "outputs": [
    {
     "data": {
      "text/plain": [
       "5200"
      ]
     },
     "execution_count": 128,
     "metadata": {},
     "output_type": "execute_result"
    }
   ],
   "source": [
    "len(review_lists)"
   ]
  },
  {
   "cell_type": "code",
   "execution_count": 12,
   "metadata": {},
   "outputs": [],
   "source": [
    "point = review_lists[1].find('div > div > div.d15Mdf.bAhLNe > div.xKpxId.zc7KVe > div.bAhLNe.kx8XBd > div > span.nt2C1d > div > div')\n",
    "point"
   ]
  },
  {
   "cell_type": "code",
   "execution_count": null,
   "metadata": {},
   "outputs": [],
   "source": [
    "p = re.compile(r'\\d+')\n",
    "p"
   ]
  },
  {
   "cell_type": "code",
   "execution_count": 52,
   "metadata": {},
   "outputs": [],
   "source": [
    "test_ratings = []\n",
    "for i in range(10):\n",
    "    rating = review_lists[i].find('div', {'role': 'img'})['aria-label']\n",
    "    rating2 = p.findall(rating)[-1]\n",
    "    \n",
    "    test_ratings.append(rating2)"
   ]
  },
  {
   "cell_type": "code",
   "execution_count": 53,
   "metadata": {},
   "outputs": [
    {
     "data": {
      "text/plain": [
       "['1', '5', '5', '5', '5', '5', '5', '5', '5', '5']"
      ]
     },
     "execution_count": 53,
     "metadata": {},
     "output_type": "execute_result"
    }
   ],
   "source": [
    "test_ratings"
   ]
  },
  {
   "cell_type": "code",
   "execution_count": 47,
   "metadata": {},
   "outputs": [
    {
     "data": {
      "text/plain": [
       "'1'"
      ]
     },
     "execution_count": 47,
     "metadata": {},
     "output_type": "execute_result"
    }
   ],
   "source": [
    "rating2 = p.findall(rating)[-1]\n",
    "rating2"
   ]
  },
  {
   "cell_type": "code",
   "execution_count": 254,
   "metadata": {},
   "outputs": [],
   "source": [
    "ID = review_list[3].select_one('div > div > div.d15Mdf.bAhLNe > div.xKpxId.zc7KVe > div.bAhLNe.kx8XBd > span').get_text()"
   ]
  },
  {
   "cell_type": "code",
   "execution_count": 255,
   "metadata": {},
   "outputs": [
    {
     "data": {
      "text/plain": [
       "'최승후'"
      ]
     },
     "execution_count": 255,
     "metadata": {},
     "output_type": "execute_result"
    }
   ],
   "source": [
    "ID"
   ]
  },
  {
   "cell_type": "code",
   "execution_count": 256,
   "metadata": {},
   "outputs": [
    {
     "data": {
      "text/plain": [
       "'2020년 8월 16일'"
      ]
     },
     "execution_count": 256,
     "metadata": {},
     "output_type": "execute_result"
    }
   ],
   "source": [
    "date = review_list[2].select_one('div > div > div.d15Mdf.bAhLNe > div.xKpxId.zc7KVe > div.bAhLNe.kx8XBd > div > span.p2TkOb').get_text()\n",
    "date"
   ]
  },
  {
   "cell_type": "code",
   "execution_count": 231,
   "metadata": {},
   "outputs": [],
   "source": [
    "real_review = review_list[0].select_one('div > div.d15Mdf.bAhLNe > div.UD7Dzf > span:nth-child(1)').get_text()"
   ]
  },
  {
   "cell_type": "code",
   "execution_count": 234,
   "metadata": {},
   "outputs": [],
   "source": [
    "response_date = review_list[0].select_one('div:nth-child(1) > div > div.d15Mdf.bAhLNe > div.LVQB0b > div:nth-child(2) > span.p2TkOb').get_text()"
   ]
  },
  {
   "cell_type": "code",
   "execution_count": 291,
   "metadata": {},
   "outputs": [],
   "source": [
    "response = review_list[1].select_one('div > div.d15Mdf.bAhLNe > div.LVQB0b').get_text()"
   ]
  },
  {
   "cell_type": "code",
   "execution_count": 292,
   "metadata": {},
   "outputs": [
    {
     "data": {
      "text/plain": [
       "'Miso, Inc.2020년 8월 17일안녕하세요, 청람 고객님. 미소 서비스를 이용해 주셔서 감사합니다. 좋은 서비스라고 이렇게 칭찬해 주시니,, 저희도 더 좋은 서비스로 보답하고 싶은 마음 뿐 입니다. 미소는 고객님께서 특별히 신경 쓰지 않으시더라도, 미소 서비스를 원활하게 제공해 드리는 것을 지향하고 있습니다. 미소는 고객님의 생활을 더 편하고, 더 쉽게 만들기 위해서 오늘도 노력하고 있습니다. 청소가 필요하실 때는 미소를 기억해 주세요. 코로나 19가 유행인 가운데, 건강에 유의하시기 바라며, 오늘도 좋은 하루 보내세요. 감사합니다. ^_^'"
      ]
     },
     "execution_count": 292,
     "metadata": {},
     "output_type": "execute_result"
    }
   ],
   "source": [
    "response"
   ]
  },
  {
   "cell_type": "code",
   "execution_count": null,
   "metadata": {},
   "outputs": [],
   "source": [
    "#fcxH9b > div.WpDbMd > c-wiz:nth-child(4) > div > div.ZfcPIb > div > div > main > div > div.W4P4ne > div:nth-child(2) > div:nth-child(3) > div:nth-child(2) > div > div.d15Mdf.bAhLNe > div.LVQB0b"
   ]
  },
  {
   "cell_type": "code",
   "execution_count": 284,
   "metadata": {},
   "outputs": [
    {
     "data": {
      "text/plain": [
       "'Miso, Inc.2020년 8월 17일안녕하세요, HYUNJIN KIM 고객님. 이용하면 이용할 수록 좋은 서비스, 미소 입니다. :) 저희 미소 서비스를 꾸준하게 이용해 주셔서 감사합니다. 맞벌이로 바쁘실 고객님께 조금이나마 여유를 드릴 수 있어서, 미소는 오늘도 보람을 느끼고 있습니다. 미소는 합리적인 가격으로 양질의 서비스를 제공하여, 우리 모두의 일상이 행복해 지도록 노력하고 있습니다. 앞으로도 번거로운 청소일은 미소에 맡기시고, 여가와 행복을 즐기면서 미소 지으시는 일만 가득하길 바랍니다. 코로나 19가 유행인 가운데, 건강에 유의하시기 바라며, 오늘도 좋은 하루 보내세요. :) 감사합니다 ^_^'"
      ]
     },
     "execution_count": 284,
     "metadata": {},
     "output_type": "execute_result"
    }
   ],
   "source": [
    "response"
   ]
  },
  {
   "cell_type": "code",
   "execution_count": 266,
   "metadata": {},
   "outputs": [],
   "source": [
    "date_tests = []\n",
    "for one_review_test in review_lists:\n",
    "    date_test = one_review_test.select_one('div > div > div.d15Mdf.bAhLNe > div.xKpxId.zc7KVe > div.bAhLNe.kx8XBd > div > span.p2TkOb').get_text()\n",
    "    date_tests.append(date_test)"
   ]
  },
  {
   "cell_type": "code",
   "execution_count": 307,
   "metadata": {},
   "outputs": [],
   "source": [
    "# when there is no response, Nonetype Error -> TRY/EXCEPT\n",
    "response_tests = []\n",
    "for i in range(200):\n",
    "    try: \n",
    "        response_test = review_lists[i].select_one('div > div.d15Mdf.bAhLNe > div.LVQB0b').get_text()\n",
    "        \n",
    "        \n",
    "    except:\n",
    "        response_test =  \"none\"\n",
    "        \n",
    "    response_tests.append(response_test)"
   ]
  },
  {
   "cell_type": "code",
   "execution_count": 308,
   "metadata": {},
   "outputs": [
    {
     "data": {
      "text/plain": [
       "200"
      ]
     },
     "execution_count": 308,
     "metadata": {},
     "output_type": "execute_result"
    }
   ],
   "source": [
    "len(response_tests)"
   ]
  },
  {
   "cell_type": "code",
   "execution_count": 4,
   "metadata": {},
   "outputs": [],
   "source": [
    "#response_tests"
   ]
  },
  {
   "cell_type": "code",
   "execution_count": 129,
   "metadata": {},
   "outputs": [],
   "source": [
    "IDs = []\n",
    "ratings = []\n",
    "dates = []\n",
    "real_reviews = []\n",
    "response_dates = []\n",
    "responses = []\n",
    "\n",
    "\n",
    "\n",
    "for i in range(len(review_lists)):\n",
    "    \n",
    "    ID = review_lists[i].select_one('div > div > div.d15Mdf.bAhLNe > div.xKpxId.zc7KVe > div.bAhLNe.kx8XBd > span').get_text()\n",
    "    point = review_lists[i].select_one('div > div > div.d15Mdf.bAhLNe > div.xKpxId.zc7KVe > div.bAhLNe.kx8XBd > div > span.nt2C1d > div > div')\n",
    "    date = review_lists[i].select_one('div > div > div.d15Mdf.bAhLNe > div.xKpxId.zc7KVe > div.bAhLNe.kx8XBd > div > span.p2TkOb').get_text()\n",
    "    real_review = review_lists[i].select_one('div > div.d15Mdf.bAhLNe > div.UD7Dzf > span:nth-child(1)').get_text() \n",
    "    rating = review_lists[i].find('div', {'role': 'img'})['aria-label']\n",
    "    rating = p.findall(rating)[-1]\n",
    "    #try: \n",
    "    #    response_date = review_lists[i].select_one('div:nth-child(1) > div > div.d15Mdf.bAhLNe > div.LVQB0b > div:nth-child(2) > span.p2TkOb').get_text()\n",
    "    #except:\n",
    "    #    response_date = \"none\"\n",
    "    try:\n",
    "        response =  review_lists[i].select_one('div > div.d15Mdf.bAhLNe > div.LVQB0b').get_text()\n",
    "    except:\n",
    "        response = \"none\"\n",
    "        \n",
    "    IDs.append(ID)\n",
    "    ratings.append(rating)\n",
    "    dates.append(date)\n",
    "    real_reviews.append(real_review)\n",
    "    #response_dates.append(response_date)\n",
    "    responses.append(response)\n",
    "    \n",
    "    "
   ]
  },
  {
   "cell_type": "code",
   "execution_count": 130,
   "metadata": {},
   "outputs": [
    {
     "data": {
      "text/plain": [
       "(5200, 5200, 5200, 5200, 0, 5200)"
      ]
     },
     "execution_count": 130,
     "metadata": {},
     "output_type": "execute_result"
    }
   ],
   "source": [
    "len(IDs), len(ratings), len(dates), len(real_reviews), len(response_dates), len(responses)"
   ]
  },
  {
   "cell_type": "code",
   "execution_count": 131,
   "metadata": {},
   "outputs": [],
   "source": [
    "# dataframe\n",
    "\n",
    "df_miso_reviews = {\n",
    "    'customer_id':  IDs,\n",
    "    #'satisfaction_point': points,\n",
    "    'date': dates,\n",
    "    'rating': ratings,\n",
    "    'real_review': real_reviews,\n",
    "    #'response_date': response_dates,\n",
    "    'response': response\n",
    "}"
   ]
  },
  {
   "cell_type": "code",
   "execution_count": 132,
   "metadata": {},
   "outputs": [],
   "source": [
    "df_miso_reviews_final = pd.DataFrame(df_miso_reviews)"
   ]
  },
  {
   "cell_type": "code",
   "execution_count": 134,
   "metadata": {},
   "outputs": [],
   "source": [
    "df_miso_reviews_final.to_csv(\"./df_miso_reviews_final.csv\")"
   ]
  },
  {
   "cell_type": "code",
   "execution_count": null,
   "metadata": {},
   "outputs": [],
   "source": []
  }
 ],
 "metadata": {
  "kernelspec": {
   "display_name": "Python 3",
   "language": "python",
   "name": "python3"
  },
  "language_info": {
   "codemirror_mode": {
    "name": "ipython",
    "version": 3
   },
   "file_extension": ".py",
   "mimetype": "text/x-python",
   "name": "python",
   "nbconvert_exporter": "python",
   "pygments_lexer": "ipython3",
   "version": "3.7.7"
  }
 },
 "nbformat": 4,
 "nbformat_minor": 4
}
